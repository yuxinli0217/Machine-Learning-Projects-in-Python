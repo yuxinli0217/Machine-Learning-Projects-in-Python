{
 "cells": [
  {
   "cell_type": "markdown",
   "id": "27efe16a",
   "metadata": {},
   "source": [
    "# 1. Introduction\n",
    "## 1.1 Background and Objectives\n",
    "\n",
    "The background of our analysis is based on Bankrate's established role in the financial industry since 1976, with a particular focus on enhancing the tools and content that assist over 100 million consumers annually in making better financial decisions. Specifically, our analysis targets the optimization of the loan matching process between individual customers and Bankrate's lending partners, aiming to maximize both the likelihood of loan approval and the revenue per approved loan application.\n",
    "\n",
    "The purpose of this analysis is to utilize predictive modeling and detailed data analysis to ascertain the most significant variables influencing loan approval rates among customers. By identifying these variables, Bankrate aims to strategically match customers with the most suitable lender among its partners—Lender A, B, and C—who offer varying commissions per approval. This targeted matching is expected to not only increase approval rates but also enhance the overall revenue generated per application, aligning customer profiles with lenders' preferences efficiently.\n",
    "\n",
    "## 1.2 Structure of Analysis\n",
    "\n",
    "There are mainly four parts in the following part of this analysis report. Here is the brief introduction of each part.\n",
    "\n",
    "1. **Preparation Work**: In the initial phase, I import all necessary analytical tools and datasets. This step includes gaining a fundamental understanding of the variables involved, setting the stage for a deeper dive into the data.\n",
    "2. **Exploration and Initial Regression Analysis**: The second part involves a comprehensive exploration of the entire dataset, examining both dependent and independent variables. I conduct a logistic regression analysis to begin identifying patterns and factors that influence the likelihood of loan approval.\n",
    "3. **Lender-Specific Analysi**s: In the third section, I focus on analyzing the data by specific lenders, which includes descriptive analytics and logistic regression grouped by each lender. This helps in understanding the differences in approval criteria and behavior between Lender A, B, and C.\n",
    "4. **Development of New Matching Method and Revenue Calculation**: The final part of the analysis leverages the insights gained from the grouped logistic regression to propose a new matching method. Using this refined approach, I calculate the potential increase in revenue by optimally aligning customers with the most suitable lenders based on the predicted approval probabilities and lender-specific returns per approval.\n",
    "\n",
    "\n",
    "## 1.3 Useful Insights\n",
    "\n",
    "1. **Low Approval Rates Indicating Room for Improvement**: The current proportion of loan approvals is relatively low (11%), highlighting significant opportunities for enhancing the loan matching process to increase approval rates.\n",
    "\n",
    "2. **Key Variables Influencing Loan Approval**: In the overall model, several variables significantly influence the likelihood of loan approval. Important factors include the customer's FICO score, monthly gross income, and employment status, which all have a strong predictive power regarding loan approval. Conversely, variables such as the reason for the loan may be less impactful, indicating areas where data collection could be streamlined or focused.\n",
    "\n",
    "3. **Differences and Similarities Among Lenders**: Each lender has distinct approval criteria, but there are commonalities such as the emphasis on creditworthiness (FICO scores) and income stability. Lender C stands out as being more comprehensive in its evaluation, considering a broader range of variables than Lenders A and B, potentially appealing to a wider range of customers.\n",
    "\n",
    "4. **Revenue Increase from Optimal Lender Matching**: Based on the analysis, adopting a more strategic approach to matching customers with the optimal lender can significantly increase revenue. Initial estimates suggest that this targeted matching method could yield a substantial increase in revenue per application, increasing total revenue by 913,632 dollars.\n",
    "\n",
    "5. **Considerations for the New Matching Method**: While the new method proposes considerable advantages, there are factors to consider, such as ensuring that customer preferences and satisfaction are maintained. Moreover, operational feasibility and the adaptation of current systems to support real-time data processing and decision-making need to be addressed to successfully implement the new strategy."
   ]
  },
  {
   "cell_type": "markdown",
   "id": "112e2a58",
   "metadata": {},
   "source": [
    "# 2. Preparation Work\n",
    "\n",
    "To complete the analysis, I choose Python because we can analyze dataframe easily in Python to present data visualization and to apply statistical models. I import the packages I will use in this part and read the .xlsx file.\n",
    "\n",
    "This dataset comprises records of 100,000 loan applications, encompassing a mix of both numerical and categorical data across 14 distinct columns. Key attributes include personal and financial information such as loan amount, FICO score, employment status, and monthly gross income, alongside the lender to whom each application was submitted and the outcome of the application (approved or not)."
   ]
  },
  {
   "cell_type": "code",
   "execution_count": 89,
   "id": "c09bbc0e",
   "metadata": {},
   "outputs": [],
   "source": [
    "# Import packages\n",
    "import pandas as pd\n",
    "import numpy as np\n",
    "import matplotlib.pyplot as plt\n",
    "import seaborn as sns\n",
    "import statsmodels.api as sm\n",
    "from sklearn.model_selection import train_test_split\n",
    "from sklearn.metrics import accuracy_score, confusion_matrix, classification_report\n",
    "from sklearn.metrics import roc_auc_score, roc_curve, log_loss"
   ]
  },
  {
   "cell_type": "code",
   "execution_count": 90,
   "id": "c7947aa5",
   "metadata": {},
   "outputs": [],
   "source": [
    "# Read the data\n",
    "df = pd.read_excel('Pre-Super_Day_candidate_dataset__28candidate_29.xlsx',engine='openpyxl')"
   ]
  },
  {
   "cell_type": "code",
   "execution_count": 91,
   "id": "8c67f5c9",
   "metadata": {},
   "outputs": [
    {
     "data": {
      "text/html": [
       "<div>\n",
       "<style scoped>\n",
       "    .dataframe tbody tr th:only-of-type {\n",
       "        vertical-align: middle;\n",
       "    }\n",
       "\n",
       "    .dataframe tbody tr th {\n",
       "        vertical-align: top;\n",
       "    }\n",
       "\n",
       "    .dataframe thead th {\n",
       "        text-align: right;\n",
       "    }\n",
       "</style>\n",
       "<table border=\"1\" class=\"dataframe\">\n",
       "  <thead>\n",
       "    <tr style=\"text-align: right;\">\n",
       "      <th></th>\n",
       "      <th>User ID</th>\n",
       "      <th>applications</th>\n",
       "      <th>Reason</th>\n",
       "      <th>Loan_Amount</th>\n",
       "      <th>FICO_score</th>\n",
       "      <th>Fico_Score_group</th>\n",
       "      <th>Employment_Status</th>\n",
       "      <th>Employment_Sector</th>\n",
       "      <th>Monthly_Gross_Income</th>\n",
       "      <th>Monthly_Housing_Payment</th>\n",
       "      <th>Ever_Bankrupt_or_Foreclose</th>\n",
       "      <th>Lender</th>\n",
       "      <th>Approved</th>\n",
       "      <th>bounty</th>\n",
       "    </tr>\n",
       "  </thead>\n",
       "  <tbody>\n",
       "    <tr>\n",
       "      <th>0</th>\n",
       "      <td>00007820-89cb-4c1d-9940-eb270d605a35</td>\n",
       "      <td>1</td>\n",
       "      <td>cover_an_unexpected_cost</td>\n",
       "      <td>100000</td>\n",
       "      <td>669</td>\n",
       "      <td>fair</td>\n",
       "      <td>full_time</td>\n",
       "      <td>consumer_discretionary</td>\n",
       "      <td>5024</td>\n",
       "      <td>927</td>\n",
       "      <td>0</td>\n",
       "      <td>B</td>\n",
       "      <td>0</td>\n",
       "      <td>0</td>\n",
       "    </tr>\n",
       "    <tr>\n",
       "      <th>1</th>\n",
       "      <td>00012b55-514c-421e-9c76-3300abbc1134</td>\n",
       "      <td>1</td>\n",
       "      <td>credit_card_refinancing</td>\n",
       "      <td>70000</td>\n",
       "      <td>594</td>\n",
       "      <td>fair</td>\n",
       "      <td>full_time</td>\n",
       "      <td>information_technology</td>\n",
       "      <td>5764</td>\n",
       "      <td>1177</td>\n",
       "      <td>0</td>\n",
       "      <td>B</td>\n",
       "      <td>0</td>\n",
       "      <td>0</td>\n",
       "    </tr>\n",
       "    <tr>\n",
       "      <th>2</th>\n",
       "      <td>000157c1-b6a3-4c86-82c7-9ec1bda3799a</td>\n",
       "      <td>1</td>\n",
       "      <td>home_improvement</td>\n",
       "      <td>10000</td>\n",
       "      <td>596</td>\n",
       "      <td>fair</td>\n",
       "      <td>full_time</td>\n",
       "      <td>information_technology</td>\n",
       "      <td>4017</td>\n",
       "      <td>1487</td>\n",
       "      <td>0</td>\n",
       "      <td>A</td>\n",
       "      <td>0</td>\n",
       "      <td>0</td>\n",
       "    </tr>\n",
       "    <tr>\n",
       "      <th>3</th>\n",
       "      <td>00020400-efab-4b10-8812-2a0aaf774841</td>\n",
       "      <td>1</td>\n",
       "      <td>home_improvement</td>\n",
       "      <td>100000</td>\n",
       "      <td>642</td>\n",
       "      <td>fair</td>\n",
       "      <td>part_time</td>\n",
       "      <td>energy</td>\n",
       "      <td>3129</td>\n",
       "      <td>904</td>\n",
       "      <td>0</td>\n",
       "      <td>A</td>\n",
       "      <td>0</td>\n",
       "      <td>0</td>\n",
       "    </tr>\n",
       "    <tr>\n",
       "      <th>4</th>\n",
       "      <td>0002f737-0cda-48fb-91ed-533f3d0eab05</td>\n",
       "      <td>1</td>\n",
       "      <td>major_purchase</td>\n",
       "      <td>30000</td>\n",
       "      <td>642</td>\n",
       "      <td>fair</td>\n",
       "      <td>full_time</td>\n",
       "      <td>energy</td>\n",
       "      <td>4220</td>\n",
       "      <td>1620</td>\n",
       "      <td>0</td>\n",
       "      <td>A</td>\n",
       "      <td>0</td>\n",
       "      <td>0</td>\n",
       "    </tr>\n",
       "  </tbody>\n",
       "</table>\n",
       "</div>"
      ],
      "text/plain": [
       "                                User ID  applications                    Reason  Loan_Amount  FICO_score Fico_Score_group Employment_Status       Employment_Sector  Monthly_Gross_Income  Monthly_Housing_Payment  Ever_Bankrupt_or_Foreclose Lender  Approved  bounty\n",
       "0  00007820-89cb-4c1d-9940-eb270d605a35             1  cover_an_unexpected_cost       100000         669             fair         full_time  consumer_discretionary                  5024                      927                           0      B         0       0\n",
       "1  00012b55-514c-421e-9c76-3300abbc1134             1   credit_card_refinancing        70000         594             fair         full_time  information_technology                  5764                     1177                           0      B         0       0\n",
       "2  000157c1-b6a3-4c86-82c7-9ec1bda3799a             1          home_improvement        10000         596             fair         full_time  information_technology                  4017                     1487                           0      A         0       0\n",
       "3  00020400-efab-4b10-8812-2a0aaf774841             1          home_improvement       100000         642             fair         part_time                  energy                  3129                      904                           0      A         0       0\n",
       "4  0002f737-0cda-48fb-91ed-533f3d0eab05             1            major_purchase        30000         642             fair         full_time                  energy                  4220                     1620                           0      A         0       0"
      ]
     },
     "execution_count": 91,
     "metadata": {},
     "output_type": "execute_result"
    }
   ],
   "source": [
    "# Display part of the data\n",
    "df.head(5)"
   ]
  },
  {
   "cell_type": "code",
   "execution_count": 92,
   "id": "08504b7f",
   "metadata": {},
   "outputs": [
    {
     "name": "stdout",
     "output_type": "stream",
     "text": [
      "<class 'pandas.core.frame.DataFrame'>\n",
      "RangeIndex: 100000 entries, 0 to 99999\n",
      "Data columns (total 14 columns):\n",
      " #   Column                      Non-Null Count   Dtype \n",
      "---  ------                      --------------   ----- \n",
      " 0   User ID                     100000 non-null  object\n",
      " 1   applications                100000 non-null  int64 \n",
      " 2   Reason                      100000 non-null  object\n",
      " 3   Loan_Amount                 100000 non-null  int64 \n",
      " 4   FICO_score                  100000 non-null  int64 \n",
      " 5   Fico_Score_group            100000 non-null  object\n",
      " 6   Employment_Status           100000 non-null  object\n",
      " 7   Employment_Sector           93593 non-null   object\n",
      " 8   Monthly_Gross_Income        100000 non-null  int64 \n",
      " 9   Monthly_Housing_Payment     100000 non-null  int64 \n",
      " 10  Ever_Bankrupt_or_Foreclose  100000 non-null  int64 \n",
      " 11  Lender                      100000 non-null  object\n",
      " 12  Approved                    100000 non-null  int64 \n",
      " 13  bounty                      100000 non-null  int64 \n",
      "dtypes: int64(8), object(6)\n",
      "memory usage: 10.7+ MB\n"
     ]
    }
   ],
   "source": [
    "# Structure of the data\n",
    "df.info()"
   ]
  },
  {
   "cell_type": "markdown",
   "id": "38be3ceb",
   "metadata": {},
   "source": [
    "# 3. Variables Relationship with Approvability\n",
    "\n",
    "First of all, we want to explore the variables relationship with approvability for the whole dataset. I did some variable exploration at the beginning, and then choose part of the variables to fit a logistic regression model.\n",
    "\n",
    "Logistic regression is an effective statistical method for exploring factors that influence loan approval decisions because it's specifically designed to handle binary outcomes — such as whether a loan is approved (1) or not approved (0). This type of regression allows us to estimate the probability of a particular outcome based on input variables, such as FICO scores, income levels, and employment status. By analyzing these probabilities, logistic regression helps us understand which factors are significant predictors of loan approval.\n",
    "\n",
    "## 3.1 Data Exploration and Visualization\n",
    "### Distribution of dependent variable\n",
    "\n",
    "To start with, I use a bar chart displays the distribution of approval statuses for loan applications. It shows a significant difference in counts between approved and not approved applications. Specifically, there are 89,024 applications that were not approved (represented by the blue bar labeled \"0\") and 10,976 applications that were approved (represented by the orange bar labeled \"1\"). This visualization highlights that a much smaller portion of the applications result in approval compared to those that are declined."
   ]
  },
  {
   "cell_type": "code",
   "execution_count": 93,
   "id": "0ea19635",
   "metadata": {
    "scrolled": false
   },
   "outputs": [
    {
     "data": {
      "image/png": "[encoded data removed]",
      "text/plain": [
       "<Figure size 640x480 with 1 Axes>"
      ]
     },
     "metadata": {},
     "output_type": "display_data"
    }
   ],
   "source": [
    "# Check the distribution of dependent variable: Approval\n",
    "ax = sns.countplot(x='Approved', data=df)\n",
    "plt.title('Distribution of Approval Status')\n",
    "\n",
    "# Add labels\n",
    "for p in ax.patches:\n",
    "    ax.annotate(f'{int(p.get_height())}', (p.get_x() + p.get_width() / 2., p.get_height()),\n",
    "                ha='center', va='center', fontsize=12, color='black', xytext=(0, 5),\n",
    "                textcoords='offset points')\n",
    "\n",
    "# Show the plot\n",
    "plt.show()"
   ]
  },
  {
   "cell_type": "markdown",
   "id": "4425d0a1",
   "metadata": {},
   "source": [
    "### Numeric variables\n",
    "\n",
    "There are several numerical independent variables that may affect the approval result. I checked their distribution at first and then calculate their correlation. According to the following histogram, we can conclude:\n",
    "\n",
    "- **Loan Amount**: The distribution shows multiple peaks, indicating that loan amounts are commonly clustered around specific values. The highest frequency is observed around mid-range values, with fewer loans requested at the highest and lowest ends.\n",
    "- **FICO Score**: This histogram has a bell-shaped distribution skewed towards higher scores, suggesting that a significant number of applicants have good credit ratings, with fewer applicants having lower scores.\n",
    "- **Monthly Gross Income**: The distribution is right-skewed, indicating that most applicants have lower to middle monthly incomes, with a rapid decline in frequency as income increases."
   ]
  },
  {
   "cell_type": "code",
   "execution_count": 94,
   "id": "0c77d580",
   "metadata": {},
   "outputs": [
    {
     "data": {
      "image/png": "[encoded data removed]",
      "text/plain": [
       "<Figure size 1800x500 with 3 Axes>"
      ]
     },
     "metadata": {},
     "output_type": "display_data"
    }
   ],
   "source": [
    "# Distribution of numeric independent variables: Loan_Amount, FICO_score, Monthly_Gross_Income\n",
    "fig, axes = plt.subplots(1, 3, figsize=(18, 5))\n",
    "\n",
    "# Loan Amount\n",
    "axes[0].hist(df['Loan_Amount'], bins=30, color='skyblue', edgecolor='black')\n",
    "axes[0].set_title('Distribution of Loan Amount')\n",
    "axes[0].set_xlabel('Loan Amount')\n",
    "axes[0].set_ylabel('Frequency')\n",
    "\n",
    "# FICO Score\n",
    "axes[1].hist(df['FICO_score'], bins=30, color='lightgreen', edgecolor='black')\n",
    "axes[1].set_title('Distribution of FICO Score')\n",
    "axes[1].set_xlabel('FICO Score')\n",
    "\n",
    "# Monthly Gross Income\n",
    "axes[2].hist(df['Monthly_Gross_Income'], bins=30, color='salmon', edgecolor='black')\n",
    "axes[2].set_title('Distribution of Monthly Gross Income')\n",
    "axes[2].set_xlabel('Monthly Gross Income')\n",
    "\n",
    "# Show the plots\n",
    "plt.tight_layout()\n",
    "plt.show()"
   ]
  },
  {
   "cell_type": "markdown",
   "id": "34077a18",
   "metadata": {},
   "source": [
    "To analyze the relationship of these variable and their correlation with approval, I create this heat map. We can get several conclusion from it.\n",
    "\n",
    "- **Loan Amount and Approval**: The correlation is very weakly negative (-0.04), indicating almost no linear relationship.\n",
    "- **FICO Score and Approval**: A moderate positive correlation (0.27) suggests that higher FICO scores might slightly increase the likelihood of loan approval.\n",
    "- **Monthly Gross Income and Approval**: The correlation is also moderately positive (0.17), suggesting that applicants with higher incomes may have a slightly better chance of being approved.\n",
    "- **Loan Amount and FICO Score**: Show no significant correlation (0.00), implying that loan amount requested does not vary systematically with FICO score.\n",
    "- **Loan Amount and Monthly Gross Income**: Also show very little correlation (0.00), indicating that the amount of loan requested is not strongly dependent on the monthly gross income."
   ]
  },
  {
   "cell_type": "code",
   "execution_count": 95,
   "id": "752ac146",
   "metadata": {},
   "outputs": [
    {
     "data": {
      "image/png": "[encoded data removed]",
      "text/plain": [
       "<Figure size 640x480 with 2 Axes>"
      ]
     },
     "metadata": {},
     "output_type": "display_data"
    }
   ],
   "source": [
    "# Heatmap of numeric independent variables vs. approval\n",
    "numeric_vars = ['Loan_Amount', 'FICO_score', 'Monthly_Gross_Income', 'Approved']\n",
    "corr_matrix = df[numeric_vars].corr()\n",
    "sns.heatmap(corr_matrix, annot=True, cmap='coolwarm', fmt='.2f')\n",
    "plt.title('Heatmap of Numeric Variables vs. Approval')\n",
    "plt.show()"
   ]
  },
  {
   "cell_type": "markdown",
   "id": "d8e01a61",
   "metadata": {},
   "source": [
    "### Categorial variables\n",
    "\n",
    "Categorial independent variables may also influence the approval result. By calculating the approval rate for different employment status, lender, and Ever Bankrupt or Foreclose, I found the approval rates differ accross sectors.\n",
    "\n",
    "- **Approval Rate by Employment Status**: The approval rates vary significantly by employment status. Full-time employees have the highest approval rate at 12.07%, followed by part-time employees at 8.12%, and unemployed individuals have the lowest at 5.49%. This indicates that full-time employment is a strong positive factor in loan approval decisions.\n",
    "- **Approval Rate by Lender**: Different lenders show varying approval rates; Lender C has the highest approval rate at 17.06%, significantly higher than Lender A at 10.97% and Lender B at 7.13%. This suggests that Lender C may have less stringent criteria or a different risk assessment strategy compared to the others.\n",
    "- **Approval Rate by Ever Bankrupt or Foreclose**: Applicants who have never declared bankruptcy or undergone foreclosure have an approval rate of 11.15%, which is significantly higher than those who have experienced these financial setbacks, who have a much lower approval rate of 3.61%. This reflects the strong negative impact of previous financial troubles on loan approval chances."
   ]
  },
  {
   "cell_type": "code",
   "execution_count": 96,
   "id": "c40b4a4d",
   "metadata": {},
   "outputs": [
    {
     "name": "stdout",
     "output_type": "stream",
     "text": [
      "Approval Rate by Employment Status:\n",
      "  Employment_Status  Count  Approval Rate\n",
      "0         full_time  76530       0.120711\n",
      "1         part_time  17064       0.081224\n",
      "2        unemployed   6406       0.054948\n",
      "\n",
      "Approval Rate by Lender:\n",
      "  Lender  Count  Approval Rate\n",
      "0      A  55000       0.109655\n",
      "1      B  27500       0.071273\n",
      "2      C  17500       0.170571\n",
      "\n",
      "Approval Rate by Ever Bankrupt or Foreclose:\n",
      "   Ever_Bankrupt_or_Foreclose  Count  Approval Rate\n",
      "0                           0  97754       0.111453\n",
      "1                           1   2246       0.036064\n"
     ]
    }
   ],
   "source": [
    "# Define a function to calculate approval rate for each category\n",
    "def approval_rate_by_category(category):\n",
    "    grouped = df.groupby(category)['Approved'].agg(['mean', 'count']).reset_index()\n",
    "    grouped.rename(columns={'mean': 'Approval Rate', 'count': 'Count'}, inplace=True)\n",
    "    return grouped[[category, 'Count', 'Approval Rate']]\n",
    "\n",
    "# Calculate approval rate for categorial variables: Employment_Status, Lender, Ever_Bankrupt_or_Foreclose\n",
    "employment_status_approval = approval_rate_by_category('Employment_Status')\n",
    "lender_approval = approval_rate_by_category('Lender')\n",
    "ever_bankrupt_approval = approval_rate_by_category('Ever_Bankrupt_or_Foreclose')\n",
    "\n",
    "# Print the result in tables\n",
    "print(\"Approval Rate by Employment Status:\")\n",
    "print(employment_status_approval)\n",
    "print(\"\\nApproval Rate by Lender:\")\n",
    "print(lender_approval)\n",
    "print(\"\\nApproval Rate by Ever Bankrupt or Foreclose:\")\n",
    "print(ever_bankrupt_approval)"
   ]
  },
  {
   "cell_type": "markdown",
   "id": "766009ce",
   "metadata": {},
   "source": [
    "Having completed the initial data exploration, which involved analyzing distributions and relationships across various numeric and categorical variables, I'm now well-equipped with a clearer understanding of the underlying patterns and influences on loan approval rates. Moving forward, I will utilize logistic regression analysis to delve deeper into the specific factors that significantly predict loan approvals. \n",
    "\n",
    "## 3.2 Logistic Regression Model\n",
    "\n",
    "To systematically approach logistic regression analysis, we will follow these steps to define variables, select features, and construct the model:\n",
    "\n",
    "**Defining the Dependent Variable**: \n",
    "\n",
    "The dependent variable, or the variable we aim to predict, is 'Approved'. This is a binary variable indicating whether a loan application was approved (1) or not approved (0).\n",
    "\n",
    "**Selecting Independent Variables**:\n",
    "\n",
    "Based on the insights gained from our exploratory data analysis, I keep 8 independent variables because they could possibly influence the target variable. \n",
    "\n",
    "I drop 'Fico_Score_group' because it's presented by the specific score. I drop 'application' because the value for this column is 1 for all rows. I drop 'Employment_Sector' because it has empty values for unemployment and has too many categories. I drop 'bounty' because it only happens after approval.\n",
    "\n",
    "After encoding categorial variable to dummies and dividing train and test set, I fit the logistic regression model."
   ]
  },
  {
   "cell_type": "code",
   "execution_count": 97,
   "id": "b05ba918",
   "metadata": {
    "scrolled": true
   },
   "outputs": [
    {
     "name": "stdout",
     "output_type": "stream",
     "text": [
      "<class 'pandas.core.frame.DataFrame'>\n",
      "RangeIndex: 100000 entries, 0 to 99999\n",
      "Data columns (total 8 columns):\n",
      " #   Column                      Non-Null Count   Dtype \n",
      "---  ------                      --------------   ----- \n",
      " 0   Reason                      100000 non-null  object\n",
      " 1   Loan_Amount                 100000 non-null  int64 \n",
      " 2   FICO_score                  100000 non-null  int64 \n",
      " 3   Employment_Status           100000 non-null  object\n",
      " 4   Monthly_Gross_Income        100000 non-null  int64 \n",
      " 5   Monthly_Housing_Payment     100000 non-null  int64 \n",
      " 6   Ever_Bankrupt_or_Foreclose  100000 non-null  int64 \n",
      " 7   Lender                      100000 non-null  object\n",
      "dtypes: int64(5), object(3)\n",
      "memory usage: 6.1+ MB\n"
     ]
    }
   ],
   "source": [
    "# Define variables\n",
    "y = df['Approved']\n",
    "X = df.drop(['User ID','applications','Fico_Score_group','Employment_Sector','Approved','bounty'], axis=1)\n",
    "\n",
    "# Check the X variables\n",
    "X.info()"
   ]
  },
  {
   "cell_type": "code",
   "execution_count": 98,
   "id": "129a9af5",
   "metadata": {},
   "outputs": [
    {
     "name": "stdout",
     "output_type": "stream",
     "text": [
      "<class 'pandas.core.frame.DataFrame'>\n",
      "RangeIndex: 100000 entries, 0 to 99999\n",
      "Data columns (total 15 columns):\n",
      " #   Column                          Non-Null Count   Dtype  \n",
      "---  ------                          --------------   -----  \n",
      " 0   const                           100000 non-null  float64\n",
      " 1   Loan_Amount                     100000 non-null  int64  \n",
      " 2   FICO_score                      100000 non-null  int64  \n",
      " 3   Monthly_Gross_Income            100000 non-null  int64  \n",
      " 4   Monthly_Housing_Payment         100000 non-null  int64  \n",
      " 5   Ever_Bankrupt_or_Foreclose      100000 non-null  int64  \n",
      " 6   Reason_credit_card_refinancing  100000 non-null  int64  \n",
      " 7   Reason_debt_conslidation        100000 non-null  int64  \n",
      " 8   Reason_home_improvement         100000 non-null  int64  \n",
      " 9   Reason_major_purchase           100000 non-null  int64  \n",
      " 10  Reason_other                    100000 non-null  int64  \n",
      " 11  Employment_Status_part_time     100000 non-null  int64  \n",
      " 12  Employment_Status_unemployed    100000 non-null  int64  \n",
      " 13  Lender_B                        100000 non-null  int64  \n",
      " 14  Lender_C                        100000 non-null  int64  \n",
      "dtypes: float64(1), int64(14)\n",
      "memory usage: 11.4 MB\n"
     ]
    }
   ],
   "source": [
    "# Encode categorial variables\n",
    "X = pd.get_dummies(X, columns=['Reason','Employment_Status','Lender'], dtype=int, drop_first=True)\n",
    "\n",
    "# Add constant\n",
    "X = sm.add_constant(X)\n",
    "X.info()"
   ]
  },
  {
   "cell_type": "code",
   "execution_count": 99,
   "id": "1ae1cf51",
   "metadata": {
    "scrolled": false
   },
   "outputs": [
    {
     "data": {
      "text/html": [
       "<table class=\"simpletable\">\n",
       "<caption>Generalized Linear Model Regression Results</caption>\n",
       "<tr>\n",
       "  <th>Dep. Variable:</th>       <td>Approved</td>     <th>  No. Observations:  </th>  <td> 80000</td> \n",
       "</tr>\n",
       "<tr>\n",
       "  <th>Model:</th>                  <td>GLM</td>       <th>  Df Residuals:      </th>  <td> 79985</td> \n",
       "</tr>\n",
       "<tr>\n",
       "  <th>Model Family:</th>        <td>Binomial</td>     <th>  Df Model:          </th>  <td>    14</td> \n",
       "</tr>\n",
       "<tr>\n",
       "  <th>Link Function:</th>         <td>Logit</td>      <th>  Scale:             </th> <td>  1.0000</td>\n",
       "</tr>\n",
       "<tr>\n",
       "  <th>Method:</th>                <td>IRLS</td>       <th>  Log-Likelihood:    </th> <td> -23237.</td>\n",
       "</tr>\n",
       "<tr>\n",
       "  <th>Date:</th>            <td>Tue, 07 May 2024</td> <th>  Deviance:          </th> <td>  46475.</td>\n",
       "</tr>\n",
       "<tr>\n",
       "  <th>Time:</th>                <td>20:20:07</td>     <th>  Pearson chi2:      </th> <td>7.63e+04</td>\n",
       "</tr>\n",
       "<tr>\n",
       "  <th>No. Iterations:</th>          <td>7</td>        <th>  Pseudo R-squ. (CS):</th>  <td>0.1059</td> \n",
       "</tr>\n",
       "<tr>\n",
       "  <th>Covariance Type:</th>     <td>nonrobust</td>    <th>                     </th>     <td> </td>   \n",
       "</tr>\n",
       "</table>\n",
       "<table class=\"simpletable\">\n",
       "<tr>\n",
       "                 <td></td>                   <th>coef</th>     <th>std err</th>      <th>z</th>      <th>P>|z|</th>  <th>[0.025</th>    <th>0.975]</th>  \n",
       "</tr>\n",
       "<tr>\n",
       "  <th>const</th>                          <td>   -9.8018</td> <td>    0.127</td> <td>  -77.096</td> <td> 0.000</td> <td>  -10.051</td> <td>   -9.553</td>\n",
       "</tr>\n",
       "<tr>\n",
       "  <th>Loan_Amount</th>                    <td>-5.658e-06</td> <td> 4.35e-07</td> <td>  -13.015</td> <td> 0.000</td> <td>-6.51e-06</td> <td>-4.81e-06</td>\n",
       "</tr>\n",
       "<tr>\n",
       "  <th>FICO_score</th>                     <td>    0.0119</td> <td>    0.000</td> <td>   64.926</td> <td> 0.000</td> <td>    0.012</td> <td>    0.012</td>\n",
       "</tr>\n",
       "<tr>\n",
       "  <th>Monthly_Gross_Income</th>           <td> 6.595e-05</td> <td> 4.87e-06</td> <td>   13.531</td> <td> 0.000</td> <td> 5.64e-05</td> <td> 7.55e-05</td>\n",
       "</tr>\n",
       "<tr>\n",
       "  <th>Monthly_Housing_Payment</th>        <td>   -0.0002</td> <td> 2.02e-05</td> <td>   -8.665</td> <td> 0.000</td> <td>   -0.000</td> <td>   -0.000</td>\n",
       "</tr>\n",
       "<tr>\n",
       "  <th>Ever_Bankrupt_or_Foreclose</th>     <td>   -1.0379</td> <td>    0.126</td> <td>   -8.244</td> <td> 0.000</td> <td>   -1.285</td> <td>   -0.791</td>\n",
       "</tr>\n",
       "<tr>\n",
       "  <th>Reason_credit_card_refinancing</th> <td>    0.0466</td> <td>    0.040</td> <td>    1.152</td> <td> 0.249</td> <td>   -0.033</td> <td>    0.126</td>\n",
       "</tr>\n",
       "<tr>\n",
       "  <th>Reason_debt_conslidation</th>       <td>   -0.0077</td> <td>    0.036</td> <td>   -0.210</td> <td> 0.834</td> <td>   -0.079</td> <td>    0.064</td>\n",
       "</tr>\n",
       "<tr>\n",
       "  <th>Reason_home_improvement</th>        <td>    0.0053</td> <td>    0.046</td> <td>    0.117</td> <td> 0.907</td> <td>   -0.084</td> <td>    0.095</td>\n",
       "</tr>\n",
       "<tr>\n",
       "  <th>Reason_major_purchase</th>          <td>   -0.0120</td> <td>    0.041</td> <td>   -0.289</td> <td> 0.772</td> <td>   -0.093</td> <td>    0.069</td>\n",
       "</tr>\n",
       "<tr>\n",
       "  <th>Reason_other</th>                   <td>    0.0009</td> <td>    0.049</td> <td>    0.019</td> <td> 0.985</td> <td>   -0.095</td> <td>    0.097</td>\n",
       "</tr>\n",
       "<tr>\n",
       "  <th>Employment_Status_part_time</th>    <td>   -0.3702</td> <td>    0.042</td> <td>   -8.755</td> <td> 0.000</td> <td>   -0.453</td> <td>   -0.287</td>\n",
       "</tr>\n",
       "<tr>\n",
       "  <th>Employment_Status_unemployed</th>   <td>   -0.9205</td> <td>    0.069</td> <td>  -13.247</td> <td> 0.000</td> <td>   -1.057</td> <td>   -0.784</td>\n",
       "</tr>\n",
       "<tr>\n",
       "  <th>Lender_B</th>                       <td>   -0.5215</td> <td>    0.032</td> <td>  -16.234</td> <td> 0.000</td> <td>   -0.585</td> <td>   -0.459</td>\n",
       "</tr>\n",
       "<tr>\n",
       "  <th>Lender_C</th>                       <td>    0.8159</td> <td>    0.031</td> <td>   26.412</td> <td> 0.000</td> <td>    0.755</td> <td>    0.876</td>\n",
       "</tr>\n",
       "</table>"
      ],
      "text/latex": [
       "\\begin{center}\n",
       "\\begin{tabular}{lclc}\n",
       "\\toprule\n",
       "\\textbf{Dep. Variable:}                    &     Approved     & \\textbf{  No. Observations:  } &    80000    \\\\\n",
       "\\textbf{Model:}                            &       GLM        & \\textbf{  Df Residuals:      } &    79985    \\\\\n",
       "\\textbf{Model Family:}                     &     Binomial     & \\textbf{  Df Model:          } &       14    \\\\\n",
       "\\textbf{Link Function:}                    &      Logit       & \\textbf{  Scale:             } &    1.0000   \\\\\n",
       "\\textbf{Method:}                           &       IRLS       & \\textbf{  Log-Likelihood:    } &   -23237.   \\\\\n",
       "\\textbf{Date:}                             & Tue, 07 May 2024 & \\textbf{  Deviance:          } &    46475.   \\\\\n",
       "\\textbf{Time:}                             &     20:20:07     & \\textbf{  Pearson chi2:      } &  7.63e+04   \\\\\n",
       "\\textbf{No. Iterations:}                   &        7         & \\textbf{  Pseudo R-squ. (CS):} &   0.1059    \\\\\n",
       "\\textbf{Covariance Type:}                  &    nonrobust     & \\textbf{                     } &             \\\\\n",
       "\\bottomrule\n",
       "\\end{tabular}\n",
       "\\begin{tabular}{lcccccc}\n",
       "                                           & \\textbf{coef} & \\textbf{std err} & \\textbf{z} & \\textbf{P$> |$z$|$} & \\textbf{[0.025} & \\textbf{0.975]}  \\\\\n",
       "\\midrule\n",
       "\\textbf{const}                             &      -9.8018  &        0.127     &   -77.096  &         0.000        &      -10.051    &       -9.553     \\\\\n",
       "\\textbf{Loan\\_Amount}                      &   -5.658e-06  &     4.35e-07     &   -13.015  &         0.000        &    -6.51e-06    &    -4.81e-06     \\\\\n",
       "\\textbf{FICO\\_score}                       &       0.0119  &        0.000     &    64.926  &         0.000        &        0.012    &        0.012     \\\\\n",
       "\\textbf{Monthly\\_Gross\\_Income}            &    6.595e-05  &     4.87e-06     &    13.531  &         0.000        &     5.64e-05    &     7.55e-05     \\\\\n",
       "\\textbf{Monthly\\_Housing\\_Payment}         &      -0.0002  &     2.02e-05     &    -8.665  &         0.000        &       -0.000    &       -0.000     \\\\\n",
       "\\textbf{Ever\\_Bankrupt\\_or\\_Foreclose}     &      -1.0379  &        0.126     &    -8.244  &         0.000        &       -1.285    &       -0.791     \\\\\n",
       "\\textbf{Reason\\_credit\\_card\\_refinancing} &       0.0466  &        0.040     &     1.152  &         0.249        &       -0.033    &        0.126     \\\\\n",
       "\\textbf{Reason\\_debt\\_conslidation}        &      -0.0077  &        0.036     &    -0.210  &         0.834        &       -0.079    &        0.064     \\\\\n",
       "\\textbf{Reason\\_home\\_improvement}         &       0.0053  &        0.046     &     0.117  &         0.907        &       -0.084    &        0.095     \\\\\n",
       "\\textbf{Reason\\_major\\_purchase}           &      -0.0120  &        0.041     &    -0.289  &         0.772        &       -0.093    &        0.069     \\\\\n",
       "\\textbf{Reason\\_other}                     &       0.0009  &        0.049     &     0.019  &         0.985        &       -0.095    &        0.097     \\\\\n",
       "\\textbf{Employment\\_Status\\_part\\_time}    &      -0.3702  &        0.042     &    -8.755  &         0.000        &       -0.453    &       -0.287     \\\\\n",
       "\\textbf{Employment\\_Status\\_unemployed}    &      -0.9205  &        0.069     &   -13.247  &         0.000        &       -1.057    &       -0.784     \\\\\n",
       "\\textbf{Lender\\_B}                         &      -0.5215  &        0.032     &   -16.234  &         0.000        &       -0.585    &       -0.459     \\\\\n",
       "\\textbf{Lender\\_C}                         &       0.8159  &        0.031     &    26.412  &         0.000        &        0.755    &        0.876     \\\\\n",
       "\\bottomrule\n",
       "\\end{tabular}\n",
       "%\\caption{Generalized Linear Model Regression Results}\n",
       "\\end{center}"
      ],
      "text/plain": [
       "<class 'statsmodels.iolib.summary.Summary'>\n",
       "\"\"\"\n",
       "                 Generalized Linear Model Regression Results                  \n",
       "==============================================================================\n",
       "Dep. Variable:               Approved   No. Observations:                80000\n",
       "Model:                            GLM   Df Residuals:                    79985\n",
       "Model Family:                Binomial   Df Model:                           14\n",
       "Link Function:                  Logit   Scale:                          1.0000\n",
       "Method:                          IRLS   Log-Likelihood:                -23237.\n",
       "Date:                Tue, 07 May 2024   Deviance:                       46475.\n",
       "Time:                        20:20:07   Pearson chi2:                 7.63e+04\n",
       "No. Iterations:                     7   Pseudo R-squ. (CS):             0.1059\n",
       "Covariance Type:            nonrobust                                         \n",
       "==================================================================================================\n",
       "                                     coef    std err          z      P>|z|      [0.025      0.975]\n",
       "--------------------------------------------------------------------------------------------------\n",
       "const                             -9.8018      0.127    -77.096      0.000     -10.051      -9.553\n",
       "Loan_Amount                    -5.658e-06   4.35e-07    -13.015      0.000   -6.51e-06   -4.81e-06\n",
       "FICO_score                         0.0119      0.000     64.926      0.000       0.012       0.012\n",
       "Monthly_Gross_Income            6.595e-05   4.87e-06     13.531      0.000    5.64e-05    7.55e-05\n",
       "Monthly_Housing_Payment           -0.0002   2.02e-05     -8.665      0.000      -0.000      -0.000\n",
       "Ever_Bankrupt_or_Foreclose        -1.0379      0.126     -8.244      0.000      -1.285      -0.791\n",
       "Reason_credit_card_refinancing     0.0466      0.040      1.152      0.249      -0.033       0.126\n",
       "Reason_debt_conslidation          -0.0077      0.036     -0.210      0.834      -0.079       0.064\n",
       "Reason_home_improvement            0.0053      0.046      0.117      0.907      -0.084       0.095\n",
       "Reason_major_purchase             -0.0120      0.041     -0.289      0.772      -0.093       0.069\n",
       "Reason_other                       0.0009      0.049      0.019      0.985      -0.095       0.097\n",
       "Employment_Status_part_time       -0.3702      0.042     -8.755      0.000      -0.453      -0.287\n",
       "Employment_Status_unemployed      -0.9205      0.069    -13.247      0.000      -1.057      -0.784\n",
       "Lender_B                          -0.5215      0.032    -16.234      0.000      -0.585      -0.459\n",
       "Lender_C                           0.8159      0.031     26.412      0.000       0.755       0.876\n",
       "==================================================================================================\n",
       "\"\"\""
      ]
     },
     "execution_count": 99,
     "metadata": {},
     "output_type": "execute_result"
    }
   ],
   "source": [
    "# Split test 20% and train 80%\n",
    "X_train, X_test, y_train, y_test = train_test_split(X, y, test_size = 0.2, random_state = 42)\n",
    "\n",
    "# Conduct logistic regression\n",
    "model = sm.GLM(y_train, X_train, family=sm.families.Binomial()).fit()\n",
    "model.summary()"
   ]
  },
  {
   "cell_type": "markdown",
   "id": "ce16fea6",
   "metadata": {},
   "source": [
    "The logistic regression analysis reveals that several variables are particularly influential in determining loan approval, indicating by the P>|z| column. We identify the variables important when this value is smaller than 0.05.\n",
    "\n",
    "The most impactful factors include the applicant's employment status, FICO score, past bankruptcy or foreclosure history, and the specific lender. Other variables such as loan amount, monthly gross income, and monthly housing payment, although statistically significant, have a less pronounced effect on the likelihood of approval. Reason for application doesn't matter in this case.\n",
    "\n",
    "\n",
    "Here are the detailed explanation for each significant variable:\n",
    "\n",
    "- **Employment Status**:\n",
    "Part-Time (-0.3702) and Unemployed (-0.9205) both significantly reduce the likelihood of loan approval, with unemployment having a more severe impact. This underscores the importance of stable employment in the loan decision process.\n",
    "\n",
    "- **FICO Score (0.0119)**:\n",
    "A higher FICO score substantially increases the chances of approval, reinforcing the role of credit history as a fundamental measure of financial health and risk.\n",
    "\n",
    "- **Ever Bankrupt or Foreclose (-1.0379)**:\n",
    "Having a history of bankruptcy or foreclosure drastically decreases the likelihood of loan approval. This highlights the critical impact of past financial behavior on lending decisions, suggesting that risk assessments could benefit from incorporating more nuanced financial recovery metrics or post-bankruptcy financial behavior analyses.\n",
    "\n",
    "- **Loan Amount (-5.658e-06)**:\n",
    "While the effect of loan amount on approval chances is slight, it is statistically significant, indicating that larger loans are slightly less likely to be approved. This could reflect an inherent risk aversion to higher amounts, suggesting that lenders might need to adjust their risk thresholds or pricing models based on loan size.\n",
    "\n",
    "- **Lender Specific**:\n",
    "Lender B (-0.5215) shows a negative influence, whereas Lender C (0.8159) has a positive influence compared to Lender A. This variation suggests that different lenders have different lending criteria or risk appetites, which could be leveraged by marketing strategies targeting specific customer segments that align better with each lender’s profile."
   ]
  },
  {
   "cell_type": "markdown",
   "id": "21e41fff",
   "metadata": {},
   "source": [
    "## 3.3 Model Evaluation\n",
    "\n",
    "To make sure that the model performs well in predicting probability and classifiction, I use some metrics to evaluate its performance. To summary, the logistic regression model works well for both functions.\n",
    "\n",
    "### Predicting Probability\n",
    "\n",
    "The Log Loss of -0.2891 and an ROC AUC of 0.79 from the logistic regression model indicate that the model is proficient at predicting loan approval outcomes with a high level of accuracy in probabilistic terms. "
   ]
  },
  {
   "cell_type": "code",
   "execution_count": 100,
   "id": "efe75406",
   "metadata": {},
   "outputs": [],
   "source": [
    "# Apply the model on test data\n",
    "proba = model.predict(X_test)"
   ]
  },
  {
   "cell_type": "code",
   "execution_count": 101,
   "id": "d8e4085c",
   "metadata": {
    "scrolled": true
   },
   "outputs": [
    {
     "name": "stdout",
     "output_type": "stream",
     "text": [
      "Log Loss: 0.28915332706623037\n"
     ]
    }
   ],
   "source": [
    "# Log loss\n",
    "logloss = log_loss(y_test, proba)\n",
    "print(\"Log Loss:\", logloss)"
   ]
  },
  {
   "cell_type": "code",
   "execution_count": 102,
   "id": "4c742e7a",
   "metadata": {},
   "outputs": [
    {
     "data": {
      "image/png": "[encoded data removed]",
      "text/plain": [
       "<Figure size 640x480 with 1 Axes>"
      ]
     },
     "metadata": {},
     "output_type": "display_data"
    }
   ],
   "source": [
    "# Draw the ROC curve\n",
    "roc_auc = roc_auc_score(y_test, proba)\n",
    "fpr, tpr, thresholds = roc_curve(y_test, proba)\n",
    "plt.plot(fpr, tpr, label='ROC Curve (area = %0.2f)' % roc_auc)\n",
    "plt.plot([0, 1], [0, 1], 'k--')\n",
    "plt.xlabel('False Positive Rate')\n",
    "plt.ylabel('True Positive Rate')\n",
    "plt.title('ROC Curve')\n",
    "plt.legend(loc=\"lower right\")\n",
    "plt.show()"
   ]
  },
  {
   "cell_type": "markdown",
   "id": "cfe5bbba",
   "metadata": {},
   "source": [
    "### Classification\n",
    "Using a classification threshold of 0.5, where probabilities above this value predict approval and those below predict non-approval, the model achieves an overall accuracy of 89.03%. However, it displays a conservative bias towards predicting non-approvals, evidenced by a high precision of 0.90 and recall of 0.99 for non-approvals, contrasted by a low precision of 0.47 and extremely low recall of 0.06 for approvals. \n",
    "\n",
    "This indicates the model effectively avoids false approvals but fails to identify a significant number of valid approvals, leading to many false negatives. Adjusting the threshold might help in achieving a better balance between recognizing true approvals and minimizing risk."
   ]
  },
  {
   "cell_type": "code",
   "execution_count": 103,
   "id": "55ef2ff4",
   "metadata": {},
   "outputs": [],
   "source": [
    "# Choose 0.5 as the threshold\n",
    "y_pred = (proba >= 0.5).astype(int)"
   ]
  },
  {
   "cell_type": "code",
   "execution_count": 104,
   "id": "937d87f7",
   "metadata": {
    "scrolled": false
   },
   "outputs": [
    {
     "name": "stdout",
     "output_type": "stream",
     "text": [
      "Accuracy: 0.8903\n",
      "------------------------------------------------------\n",
      "Confusion Matrix:\n",
      " [[17667   154]\n",
      " [ 2040   139]]\n",
      "------------------------------------------------------\n",
      "Classification Report:\n",
      "               precision    recall  f1-score   support\n",
      "\n",
      "           0       0.90      0.99      0.94     17821\n",
      "           1       0.47      0.06      0.11      2179\n",
      "\n",
      "    accuracy                           0.89     20000\n",
      "   macro avg       0.69      0.53      0.53     20000\n",
      "weighted avg       0.85      0.89      0.85     20000\n",
      "\n"
     ]
    }
   ],
   "source": [
    "# Accuray\n",
    "accuracy = accuracy_score(y_test, y_pred)\n",
    "print(\"Accuracy:\", accuracy)\n",
    "print(\"------------------------------------------------------\")\n",
    "\n",
    "# Confusion matrix\n",
    "conf_matrix = confusion_matrix(y_test, y_pred)\n",
    "print(\"Confusion Matrix:\\n\", conf_matrix)\n",
    "print(\"------------------------------------------------------\")\n",
    "\n",
    "# Classification report\n",
    "print(\"Classification Report:\\n\", classification_report(y_test, y_pred))"
   ]
  },
  {
   "cell_type": "markdown",
   "id": "88678e5c",
   "metadata": {},
   "source": [
    "## 3.4 Summary\n",
    "\n",
    "Based on the comprehensive analysis of the logistic regression model, here is a summary focusing on the effectiveness of variables, potential feature modifications, and other improvements:\n",
    "\n",
    "**Useful and Not Useful Variables**:\n",
    "\n",
    "- Useful Variables: FICO score and employment status have proven to be significant predictors, indicating their strong influence on loan approval decisions. Past bankruptcy or foreclosure history,the specific lender, loan amount, monthly gross income, and monthly housing payment are also useful.\n",
    "- Less Useful Variables: Variables such as the specific reasons for the loan (e.g., credit card refinancing, home improvement) showed minimal influence on the outcome. The coefficient values were small, suggesting they do not significantly differentiate between approval and non-approval cases.\n",
    "\n",
    "**Feature Modifications or Transformations**: \n",
    "\n",
    "- In previous analysis, I chose independent variables according to the result of data exploration and transformed categorial variables into dummies.\n",
    "\n",
    "- I think I could improve the model using methods like scaling and normalization. Some features like Loan_Amount and Monthly_Gross_Income might benefit from scaling or normalization to better capture their effects, as their coefficients were very small, indicating a potentially disproportionate scale effect.\n",
    "\n",
    "**Other Possible Improvements**:\n",
    "\n",
    "- Adjusting Classification Threshold: Considering the conservative bias of the model towards predicting non-approvals, adjusting the classification threshold could help increase the recall for approvals, thereby balancing the rate of false negatives and false positives.\n",
    "- Cross-validation and Regularization: Implementing cross-validation to optimize model parameters and using regularization techniques could prevent overfitting and help generalize the model better to unseen data.\n",
    "- Model Complexity: Exploring more complex models or ensemble methods like Random Forests or Gradient Boosting might capture non-linear relationships and interactions between variables better than logistic regression."
   ]
  },
  {
   "cell_type": "markdown",
   "id": "58e50e95",
   "metadata": {},
   "source": [
    "# 4. Lenders Approval Rate\n",
    "## 4.1 Average Approval Rate for Each Lender\n",
    "\n",
    "After reviewing the overall model, we identified that lenders are a significant factor influencing loan approvals. Therefore, we will further dissect this dimension to explore whether different lenders exhibit distinct approval rates and behavioral patterns. By calculating the approval rate, we found that Lender C has the highest approval rate at 17.06%, significantly higher than Lender A at 10.97% and Lender B at 7.13%."
   ]
  },
  {
   "cell_type": "code",
   "execution_count": 105,
   "id": "0b49ceb6",
   "metadata": {
    "scrolled": true
   },
   "outputs": [
    {
     "name": "stdout",
     "output_type": "stream",
     "text": [
      "\n",
      "Approval Rate by Lender:\n",
      "  Lender  Count  Approval Rate\n",
      "0      A  55000       0.109655\n",
      "1      B  27500       0.071273\n",
      "2      C  17500       0.170571\n"
     ]
    }
   ],
   "source": [
    "# Print the result calculated in part 3\n",
    "print(\"\\nApproval Rate by Lender:\")\n",
    "print(lender_approval)"
   ]
  },
  {
   "cell_type": "markdown",
   "id": "104da9a7",
   "metadata": {},
   "source": [
    "## 4.2 Descriptive Analysis for Each Lender\n",
    "\n",
    "Before applying logistic regressions for each lender, I calculate the average numeric variables value for each lender, grouped by the result of approval or not. \n",
    "\n",
    "Overall, across all lenders, applicants who are approved generally have higher FICO scores and incomes but tend to borrow smaller amounts and have lower or similar monthly housing payments compared to those not approved.\n",
    "\n",
    "For diffenrent lenders, their average values are different in terms of FICO_score, Monthly_Gross_Income, and Monthly_Housing_Payment. Especially, Lender C has the lowest value for each metric."
   ]
  },
  {
   "cell_type": "code",
   "execution_count": 106,
   "id": "d4a8d86d",
   "metadata": {},
   "outputs": [
    {
     "name": "stdout",
     "output_type": "stream",
     "text": [
      "Average Features for Lender A:\n",
      "           Loan_Amount  FICO_score  Monthly_Gross_Income  Monthly_Housing_Payment\n",
      "Approved                                                                         \n",
      "0         45607.731422  621.845372           5802.614572              1677.814842\n",
      "1         42417.509534  697.358481           7506.998674              1697.039794\n",
      "\n",
      "\n",
      "Average Features for Lender B:\n",
      "           Loan_Amount  FICO_score  Monthly_Gross_Income  Monthly_Housing_Payment\n",
      "Approved                                                                         \n",
      "0         45486.491778  622.429366            5836.39307              1733.769342\n",
      "1         41790.816327  732.108673            8053.57602              1694.571939\n",
      "\n",
      "\n",
      "Average Features for Lender C:\n",
      "           Loan_Amount  FICO_score  Monthly_Gross_Income  Monthly_Housing_Payment\n",
      "Approved                                                                         \n",
      "0         46009.300723  615.368722           5101.539924              1443.887427\n",
      "1         41135.678392  674.770519           6322.161809              1344.649581\n",
      "\n",
      "\n"
     ]
    }
   ],
   "source": [
    "# Define lenders and numeric features\n",
    "lenders = ['A', 'B', 'C']\n",
    "features = ['Loan_Amount', 'FICO_score', 'Monthly_Gross_Income', 'Monthly_Housing_Payment']\n",
    "\n",
    "# Expand the disply area for result\n",
    "pd.set_option('display.max_columns', None)\n",
    "pd.set_option('display.width', 1000)\n",
    "\n",
    "# Calculate average numeric value for each lenders\n",
    "for lender in lenders:\n",
    "    \n",
    "    # Choose lender and compute the average\n",
    "    df_lender = df[df['Lender'] == lender]\n",
    "    average_features = df_lender.groupby('Approved')[features].mean()\n",
    "    \n",
    "    # Print the result\n",
    "    print(f\"Average Features for Lender {lender}:\")\n",
    "    print(average_features)\n",
    "    print('\\n')"
   ]
  },
  {
   "cell_type": "markdown",
   "id": "bb3ff07b",
   "metadata": {},
   "source": [
    "## 4.3 Regression Analysis for Each Lender\n",
    "\n",
    "Since the 'Reason' variable is not significant in previous model, I drop this variable in the following analysis and apply simplified logistic regression model for each lender sector."
   ]
  },
  {
   "cell_type": "code",
   "execution_count": 107,
   "id": "f5423f9d",
   "metadata": {
    "scrolled": false
   },
   "outputs": [
    {
     "data": {
      "text/html": [
       "<table class=\"simpletable\">\n",
       "<caption>Generalized Linear Model Regression Results</caption>\n",
       "<tr>\n",
       "  <th>Dep. Variable:</th>       <td>Approved</td>     <th>  No. Observations:  </th>  <td> 55000</td> \n",
       "</tr>\n",
       "<tr>\n",
       "  <th>Model:</th>                  <td>GLM</td>       <th>  Df Residuals:      </th>  <td> 54992</td> \n",
       "</tr>\n",
       "<tr>\n",
       "  <th>Model Family:</th>        <td>Binomial</td>     <th>  Df Model:          </th>  <td>     7</td> \n",
       "</tr>\n",
       "<tr>\n",
       "  <th>Link Function:</th>         <td>Logit</td>      <th>  Scale:             </th> <td>  1.0000</td>\n",
       "</tr>\n",
       "<tr>\n",
       "  <th>Method:</th>                <td>IRLS</td>       <th>  Log-Likelihood:    </th> <td> -16489.</td>\n",
       "</tr>\n",
       "<tr>\n",
       "  <th>Date:</th>            <td>Tue, 07 May 2024</td> <th>  Deviance:          </th> <td>  32977.</td>\n",
       "</tr>\n",
       "<tr>\n",
       "  <th>Time:</th>                <td>20:20:21</td>     <th>  Pearson chi2:      </th> <td>5.53e+04</td>\n",
       "</tr>\n",
       "<tr>\n",
       "  <th>No. Iterations:</th>          <td>7</td>        <th>  Pseudo R-squ. (CS):</th>  <td>0.08789</td>\n",
       "</tr>\n",
       "<tr>\n",
       "  <th>Covariance Type:</th>     <td>nonrobust</td>    <th>                     </th>     <td> </td>   \n",
       "</tr>\n",
       "</table>\n",
       "<table class=\"simpletable\">\n",
       "<tr>\n",
       "                <td></td>                  <th>coef</th>     <th>std err</th>      <th>z</th>      <th>P>|z|</th>  <th>[0.025</th>    <th>0.975]</th>  \n",
       "</tr>\n",
       "<tr>\n",
       "  <th>const</th>                        <td>   -9.5656</td> <td>    0.147</td> <td>  -65.228</td> <td> 0.000</td> <td>   -9.853</td> <td>   -9.278</td>\n",
       "</tr>\n",
       "<tr>\n",
       "  <th>Loan_Amount</th>                  <td>-4.421e-06</td> <td> 5.14e-07</td> <td>   -8.603</td> <td> 0.000</td> <td>-5.43e-06</td> <td>-3.41e-06</td>\n",
       "</tr>\n",
       "<tr>\n",
       "  <th>FICO_score</th>                   <td>    0.0109</td> <td>    0.000</td> <td>   50.883</td> <td> 0.000</td> <td>    0.010</td> <td>    0.011</td>\n",
       "</tr>\n",
       "<tr>\n",
       "  <th>Monthly_Gross_Income</th>         <td> 8.235e-05</td> <td> 5.63e-06</td> <td>   14.627</td> <td> 0.000</td> <td> 7.13e-05</td> <td> 9.34e-05</td>\n",
       "</tr>\n",
       "<tr>\n",
       "  <th>Monthly_Housing_Payment</th>      <td>-2.446e-05</td> <td> 2.49e-05</td> <td>   -0.982</td> <td> 0.326</td> <td>-7.33e-05</td> <td> 2.44e-05</td>\n",
       "</tr>\n",
       "<tr>\n",
       "  <th>Ever_Bankrupt_or_Foreclose</th>   <td>   -1.4443</td> <td>    0.181</td> <td>   -7.971</td> <td> 0.000</td> <td>   -1.799</td> <td>   -1.089</td>\n",
       "</tr>\n",
       "<tr>\n",
       "  <th>Employment_Status_part_time</th>  <td>   -0.2535</td> <td>    0.050</td> <td>   -5.034</td> <td> 0.000</td> <td>   -0.352</td> <td>   -0.155</td>\n",
       "</tr>\n",
       "<tr>\n",
       "  <th>Employment_Status_unemployed</th> <td>    0.3039</td> <td>    0.122</td> <td>    2.488</td> <td> 0.013</td> <td>    0.065</td> <td>    0.543</td>\n",
       "</tr>\n",
       "</table>"
      ],
      "text/latex": [
       "\\begin{center}\n",
       "\\begin{tabular}{lclc}\n",
       "\\toprule\n",
       "\\textbf{Dep. Variable:}                 &     Approved     & \\textbf{  No. Observations:  } &    55000    \\\\\n",
       "\\textbf{Model:}                         &       GLM        & \\textbf{  Df Residuals:      } &    54992    \\\\\n",
       "\\textbf{Model Family:}                  &     Binomial     & \\textbf{  Df Model:          } &        7    \\\\\n",
       "\\textbf{Link Function:}                 &      Logit       & \\textbf{  Scale:             } &    1.0000   \\\\\n",
       "\\textbf{Method:}                        &       IRLS       & \\textbf{  Log-Likelihood:    } &   -16489.   \\\\\n",
       "\\textbf{Date:}                          & Tue, 07 May 2024 & \\textbf{  Deviance:          } &    32977.   \\\\\n",
       "\\textbf{Time:}                          &     20:20:21     & \\textbf{  Pearson chi2:      } &  5.53e+04   \\\\\n",
       "\\textbf{No. Iterations:}                &        7         & \\textbf{  Pseudo R-squ. (CS):} &  0.08789    \\\\\n",
       "\\textbf{Covariance Type:}               &    nonrobust     & \\textbf{                     } &             \\\\\n",
       "\\bottomrule\n",
       "\\end{tabular}\n",
       "\\begin{tabular}{lcccccc}\n",
       "                                        & \\textbf{coef} & \\textbf{std err} & \\textbf{z} & \\textbf{P$> |$z$|$} & \\textbf{[0.025} & \\textbf{0.975]}  \\\\\n",
       "\\midrule\n",
       "\\textbf{const}                          &      -9.5656  &        0.147     &   -65.228  &         0.000        &       -9.853    &       -9.278     \\\\\n",
       "\\textbf{Loan\\_Amount}                   &   -4.421e-06  &     5.14e-07     &    -8.603  &         0.000        &    -5.43e-06    &    -3.41e-06     \\\\\n",
       "\\textbf{FICO\\_score}                    &       0.0109  &        0.000     &    50.883  &         0.000        &        0.010    &        0.011     \\\\\n",
       "\\textbf{Monthly\\_Gross\\_Income}         &    8.235e-05  &     5.63e-06     &    14.627  &         0.000        &     7.13e-05    &     9.34e-05     \\\\\n",
       "\\textbf{Monthly\\_Housing\\_Payment}      &   -2.446e-05  &     2.49e-05     &    -0.982  &         0.326        &    -7.33e-05    &     2.44e-05     \\\\\n",
       "\\textbf{Ever\\_Bankrupt\\_or\\_Foreclose}  &      -1.4443  &        0.181     &    -7.971  &         0.000        &       -1.799    &       -1.089     \\\\\n",
       "\\textbf{Employment\\_Status\\_part\\_time} &      -0.2535  &        0.050     &    -5.034  &         0.000        &       -0.352    &       -0.155     \\\\\n",
       "\\textbf{Employment\\_Status\\_unemployed} &       0.3039  &        0.122     &     2.488  &         0.013        &        0.065    &        0.543     \\\\\n",
       "\\bottomrule\n",
       "\\end{tabular}\n",
       "%\\caption{Generalized Linear Model Regression Results}\n",
       "\\end{center}"
      ],
      "text/plain": [
       "<class 'statsmodels.iolib.summary.Summary'>\n",
       "\"\"\"\n",
       "                 Generalized Linear Model Regression Results                  \n",
       "==============================================================================\n",
       "Dep. Variable:               Approved   No. Observations:                55000\n",
       "Model:                            GLM   Df Residuals:                    54992\n",
       "Model Family:                Binomial   Df Model:                            7\n",
       "Link Function:                  Logit   Scale:                          1.0000\n",
       "Method:                          IRLS   Log-Likelihood:                -16489.\n",
       "Date:                Tue, 07 May 2024   Deviance:                       32977.\n",
       "Time:                        20:20:21   Pearson chi2:                 5.53e+04\n",
       "No. Iterations:                     7   Pseudo R-squ. (CS):            0.08789\n",
       "Covariance Type:            nonrobust                                         \n",
       "================================================================================================\n",
       "                                   coef    std err          z      P>|z|      [0.025      0.975]\n",
       "------------------------------------------------------------------------------------------------\n",
       "const                           -9.5656      0.147    -65.228      0.000      -9.853      -9.278\n",
       "Loan_Amount                  -4.421e-06   5.14e-07     -8.603      0.000   -5.43e-06   -3.41e-06\n",
       "FICO_score                       0.0109      0.000     50.883      0.000       0.010       0.011\n",
       "Monthly_Gross_Income          8.235e-05   5.63e-06     14.627      0.000    7.13e-05    9.34e-05\n",
       "Monthly_Housing_Payment      -2.446e-05   2.49e-05     -0.982      0.326   -7.33e-05    2.44e-05\n",
       "Ever_Bankrupt_or_Foreclose      -1.4443      0.181     -7.971      0.000      -1.799      -1.089\n",
       "Employment_Status_part_time     -0.2535      0.050     -5.034      0.000      -0.352      -0.155\n",
       "Employment_Status_unemployed     0.3039      0.122      2.488      0.013       0.065       0.543\n",
       "================================================================================================\n",
       "\"\"\""
      ]
     },
     "execution_count": 107,
     "metadata": {},
     "output_type": "execute_result"
    }
   ],
   "source": [
    "# Choose lender by filter\n",
    "df_lender = df[df['Lender'] == 'A']\n",
    "    \n",
    "# Define dependent and independent variabls\n",
    "y = df_lender['Approved']\n",
    "X = df_lender[['Loan_Amount', 'FICO_score', 'Monthly_Gross_Income', \n",
    "                'Monthly_Housing_Payment','Employment_Status','Ever_Bankrupt_or_Foreclose']]\n",
    "    \n",
    "# Encode dummy variables\n",
    "X = pd.get_dummies(X, columns=['Employment_Status'], dtype=int, drop_first=True)\n",
    "X = sm.add_constant(X)\n",
    "\n",
    "# Fit logistic regression model\n",
    "model_lender_a = sm.GLM(y, X, family=sm.families.Binomial()).fit()\n",
    "model_lender_a.summary()"
   ]
  },
  {
   "cell_type": "code",
   "execution_count": 108,
   "id": "af87adf4",
   "metadata": {
    "scrolled": false
   },
   "outputs": [
    {
     "data": {
      "text/html": [
       "<table class=\"simpletable\">\n",
       "<caption>Generalized Linear Model Regression Results</caption>\n",
       "<tr>\n",
       "  <th>Dep. Variable:</th>       <td>Approved</td>     <th>  No. Observations:  </th>  <td> 27500</td> \n",
       "</tr>\n",
       "<tr>\n",
       "  <th>Model:</th>                  <td>GLM</td>       <th>  Df Residuals:      </th>  <td> 27492</td> \n",
       "</tr>\n",
       "<tr>\n",
       "  <th>Model Family:</th>        <td>Binomial</td>     <th>  Df Model:          </th>  <td>     7</td> \n",
       "</tr>\n",
       "<tr>\n",
       "  <th>Link Function:</th>         <td>Logit</td>      <th>  Scale:             </th> <td>  1.0000</td>\n",
       "</tr>\n",
       "<tr>\n",
       "  <th>Method:</th>                <td>IRLS</td>       <th>  Log-Likelihood:    </th> <td> -5181.7</td>\n",
       "</tr>\n",
       "<tr>\n",
       "  <th>Date:</th>            <td>Tue, 07 May 2024</td> <th>  Deviance:          </th> <td>  10363.</td>\n",
       "</tr>\n",
       "<tr>\n",
       "  <th>Time:</th>                <td>20:20:21</td>     <th>  Pearson chi2:      </th> <td>1.66e+04</td>\n",
       "</tr>\n",
       "<tr>\n",
       "  <th>No. Iterations:</th>         <td>25</td>        <th>  Pseudo R-squ. (CS):</th>  <td>0.1280</td> \n",
       "</tr>\n",
       "<tr>\n",
       "  <th>Covariance Type:</th>     <td>nonrobust</td>    <th>                     </th>     <td> </td>   \n",
       "</tr>\n",
       "</table>\n",
       "<table class=\"simpletable\">\n",
       "<tr>\n",
       "                <td></td>                  <th>coef</th>     <th>std err</th>      <th>z</th>      <th>P>|z|</th>  <th>[0.025</th>    <th>0.975]</th>  \n",
       "</tr>\n",
       "<tr>\n",
       "  <th>const</th>                        <td>  -15.3946</td> <td>    0.313</td> <td>  -49.253</td> <td> 0.000</td> <td>  -16.007</td> <td>  -14.782</td>\n",
       "</tr>\n",
       "<tr>\n",
       "  <th>Loan_Amount</th>                  <td>-6.113e-06</td> <td> 9.45e-07</td> <td>   -6.468</td> <td> 0.000</td> <td>-7.96e-06</td> <td>-4.26e-06</td>\n",
       "</tr>\n",
       "<tr>\n",
       "  <th>FICO_score</th>                   <td>    0.0197</td> <td>    0.000</td> <td>   42.680</td> <td> 0.000</td> <td>    0.019</td> <td>    0.021</td>\n",
       "</tr>\n",
       "<tr>\n",
       "  <th>Monthly_Gross_Income</th>         <td> 4.087e-05</td> <td> 1.03e-05</td> <td>    3.954</td> <td> 0.000</td> <td> 2.06e-05</td> <td> 6.11e-05</td>\n",
       "</tr>\n",
       "<tr>\n",
       "  <th>Monthly_Housing_Payment</th>      <td>   -0.0003</td> <td> 4.21e-05</td> <td>   -6.815</td> <td> 0.000</td> <td>   -0.000</td> <td>   -0.000</td>\n",
       "</tr>\n",
       "<tr>\n",
       "  <th>Ever_Bankrupt_or_Foreclose</th>   <td>  -23.5376</td> <td> 1.71e+04</td> <td>   -0.001</td> <td> 0.999</td> <td>-3.36e+04</td> <td> 3.35e+04</td>\n",
       "</tr>\n",
       "<tr>\n",
       "  <th>Employment_Status_part_time</th>  <td>   -0.5988</td> <td>    0.107</td> <td>   -5.618</td> <td> 0.000</td> <td>   -0.808</td> <td>   -0.390</td>\n",
       "</tr>\n",
       "<tr>\n",
       "  <th>Employment_Status_unemployed</th> <td>   -1.8580</td> <td>    0.210</td> <td>   -8.851</td> <td> 0.000</td> <td>   -2.269</td> <td>   -1.447</td>\n",
       "</tr>\n",
       "</table>"
      ],
      "text/latex": [
       "\\begin{center}\n",
       "\\begin{tabular}{lclc}\n",
       "\\toprule\n",
       "\\textbf{Dep. Variable:}                 &     Approved     & \\textbf{  No. Observations:  } &    27500    \\\\\n",
       "\\textbf{Model:}                         &       GLM        & \\textbf{  Df Residuals:      } &    27492    \\\\\n",
       "\\textbf{Model Family:}                  &     Binomial     & \\textbf{  Df Model:          } &        7    \\\\\n",
       "\\textbf{Link Function:}                 &      Logit       & \\textbf{  Scale:             } &    1.0000   \\\\\n",
       "\\textbf{Method:}                        &       IRLS       & \\textbf{  Log-Likelihood:    } &   -5181.7   \\\\\n",
       "\\textbf{Date:}                          & Tue, 07 May 2024 & \\textbf{  Deviance:          } &    10363.   \\\\\n",
       "\\textbf{Time:}                          &     20:20:21     & \\textbf{  Pearson chi2:      } &  1.66e+04   \\\\\n",
       "\\textbf{No. Iterations:}                &        25        & \\textbf{  Pseudo R-squ. (CS):} &   0.1280    \\\\\n",
       "\\textbf{Covariance Type:}               &    nonrobust     & \\textbf{                     } &             \\\\\n",
       "\\bottomrule\n",
       "\\end{tabular}\n",
       "\\begin{tabular}{lcccccc}\n",
       "                                        & \\textbf{coef} & \\textbf{std err} & \\textbf{z} & \\textbf{P$> |$z$|$} & \\textbf{[0.025} & \\textbf{0.975]}  \\\\\n",
       "\\midrule\n",
       "\\textbf{const}                          &     -15.3946  &        0.313     &   -49.253  &         0.000        &      -16.007    &      -14.782     \\\\\n",
       "\\textbf{Loan\\_Amount}                   &   -6.113e-06  &     9.45e-07     &    -6.468  &         0.000        &    -7.96e-06    &    -4.26e-06     \\\\\n",
       "\\textbf{FICO\\_score}                    &       0.0197  &        0.000     &    42.680  &         0.000        &        0.019    &        0.021     \\\\\n",
       "\\textbf{Monthly\\_Gross\\_Income}         &    4.087e-05  &     1.03e-05     &     3.954  &         0.000        &     2.06e-05    &     6.11e-05     \\\\\n",
       "\\textbf{Monthly\\_Housing\\_Payment}      &      -0.0003  &     4.21e-05     &    -6.815  &         0.000        &       -0.000    &       -0.000     \\\\\n",
       "\\textbf{Ever\\_Bankrupt\\_or\\_Foreclose}  &     -23.5376  &     1.71e+04     &    -0.001  &         0.999        &    -3.36e+04    &     3.35e+04     \\\\\n",
       "\\textbf{Employment\\_Status\\_part\\_time} &      -0.5988  &        0.107     &    -5.618  &         0.000        &       -0.808    &       -0.390     \\\\\n",
       "\\textbf{Employment\\_Status\\_unemployed} &      -1.8580  &        0.210     &    -8.851  &         0.000        &       -2.269    &       -1.447     \\\\\n",
       "\\bottomrule\n",
       "\\end{tabular}\n",
       "%\\caption{Generalized Linear Model Regression Results}\n",
       "\\end{center}"
      ],
      "text/plain": [
       "<class 'statsmodels.iolib.summary.Summary'>\n",
       "\"\"\"\n",
       "                 Generalized Linear Model Regression Results                  \n",
       "==============================================================================\n",
       "Dep. Variable:               Approved   No. Observations:                27500\n",
       "Model:                            GLM   Df Residuals:                    27492\n",
       "Model Family:                Binomial   Df Model:                            7\n",
       "Link Function:                  Logit   Scale:                          1.0000\n",
       "Method:                          IRLS   Log-Likelihood:                -5181.7\n",
       "Date:                Tue, 07 May 2024   Deviance:                       10363.\n",
       "Time:                        20:20:21   Pearson chi2:                 1.66e+04\n",
       "No. Iterations:                    25   Pseudo R-squ. (CS):             0.1280\n",
       "Covariance Type:            nonrobust                                         \n",
       "================================================================================================\n",
       "                                   coef    std err          z      P>|z|      [0.025      0.975]\n",
       "------------------------------------------------------------------------------------------------\n",
       "const                          -15.3946      0.313    -49.253      0.000     -16.007     -14.782\n",
       "Loan_Amount                  -6.113e-06   9.45e-07     -6.468      0.000   -7.96e-06   -4.26e-06\n",
       "FICO_score                       0.0197      0.000     42.680      0.000       0.019       0.021\n",
       "Monthly_Gross_Income          4.087e-05   1.03e-05      3.954      0.000    2.06e-05    6.11e-05\n",
       "Monthly_Housing_Payment         -0.0003   4.21e-05     -6.815      0.000      -0.000      -0.000\n",
       "Ever_Bankrupt_or_Foreclose     -23.5376   1.71e+04     -0.001      0.999   -3.36e+04    3.35e+04\n",
       "Employment_Status_part_time     -0.5988      0.107     -5.618      0.000      -0.808      -0.390\n",
       "Employment_Status_unemployed    -1.8580      0.210     -8.851      0.000      -2.269      -1.447\n",
       "================================================================================================\n",
       "\"\"\""
      ]
     },
     "execution_count": 108,
     "metadata": {},
     "output_type": "execute_result"
    }
   ],
   "source": [
    "# Choose lender by filter\n",
    "df_lender = df[df['Lender'] == 'B']\n",
    "    \n",
    "# Define dependent and independent variabls\n",
    "y = df_lender['Approved']\n",
    "X = df_lender[['Loan_Amount', 'FICO_score', 'Monthly_Gross_Income', \n",
    "                'Monthly_Housing_Payment','Employment_Status','Ever_Bankrupt_or_Foreclose']]\n",
    "    \n",
    "# Encode dummy variables\n",
    "X = pd.get_dummies(X, columns=['Employment_Status'], dtype=int, drop_first=True)\n",
    "X = sm.add_constant(X)\n",
    "\n",
    "# Fit logistic regression model\n",
    "model_lender_b = sm.GLM(y, X, family=sm.families.Binomial()).fit()\n",
    "model_lender_b.summary()"
   ]
  },
  {
   "cell_type": "code",
   "execution_count": 109,
   "id": "8a9fca3b",
   "metadata": {},
   "outputs": [
    {
     "data": {
      "text/html": [
       "<table class=\"simpletable\">\n",
       "<caption>Generalized Linear Model Regression Results</caption>\n",
       "<tr>\n",
       "  <th>Dep. Variable:</th>       <td>Approved</td>     <th>  No. Observations:  </th>  <td> 17500</td> \n",
       "</tr>\n",
       "<tr>\n",
       "  <th>Model:</th>                  <td>GLM</td>       <th>  Df Residuals:      </th>  <td> 17492</td> \n",
       "</tr>\n",
       "<tr>\n",
       "  <th>Model Family:</th>        <td>Binomial</td>     <th>  Df Model:          </th>  <td>     7</td> \n",
       "</tr>\n",
       "<tr>\n",
       "  <th>Link Function:</th>         <td>Logit</td>      <th>  Scale:             </th> <td>  1.0000</td>\n",
       "</tr>\n",
       "<tr>\n",
       "  <th>Method:</th>                <td>IRLS</td>       <th>  Log-Likelihood:    </th> <td> -7007.0</td>\n",
       "</tr>\n",
       "<tr>\n",
       "  <th>Date:</th>            <td>Tue, 07 May 2024</td> <th>  Deviance:          </th> <td>  14014.</td>\n",
       "</tr>\n",
       "<tr>\n",
       "  <th>Time:</th>                <td>20:20:22</td>     <th>  Pearson chi2:      </th> <td>1.72e+04</td>\n",
       "</tr>\n",
       "<tr>\n",
       "  <th>No. Iterations:</th>          <td>6</td>        <th>  Pseudo R-squ. (CS):</th>  <td>0.1067</td> \n",
       "</tr>\n",
       "<tr>\n",
       "  <th>Covariance Type:</th>     <td>nonrobust</td>    <th>                     </th>     <td> </td>   \n",
       "</tr>\n",
       "</table>\n",
       "<table class=\"simpletable\">\n",
       "<tr>\n",
       "                <td></td>                  <th>coef</th>     <th>std err</th>      <th>z</th>      <th>P>|z|</th>  <th>[0.025</th>    <th>0.975]</th>  \n",
       "</tr>\n",
       "<tr>\n",
       "  <th>const</th>                        <td>   -6.7836</td> <td>    0.197</td> <td>  -34.356</td> <td> 0.000</td> <td>   -7.171</td> <td>   -6.397</td>\n",
       "</tr>\n",
       "<tr>\n",
       "  <th>Loan_Amount</th>                  <td>-6.805e-06</td> <td> 7.69e-07</td> <td>   -8.853</td> <td> 0.000</td> <td>-8.31e-06</td> <td> -5.3e-06</td>\n",
       "</tr>\n",
       "<tr>\n",
       "  <th>FICO_score</th>                   <td>    0.0094</td> <td>    0.000</td> <td>   31.208</td> <td> 0.000</td> <td>    0.009</td> <td>    0.010</td>\n",
       "</tr>\n",
       "<tr>\n",
       "  <th>Monthly_Gross_Income</th>         <td> 1.952e-05</td> <td> 9.46e-06</td> <td>    2.063</td> <td> 0.039</td> <td> 9.74e-07</td> <td> 3.81e-05</td>\n",
       "</tr>\n",
       "<tr>\n",
       "  <th>Monthly_Housing_Payment</th>      <td>   -0.0003</td> <td> 3.43e-05</td> <td>   -8.630</td> <td> 0.000</td> <td>   -0.000</td> <td>   -0.000</td>\n",
       "</tr>\n",
       "<tr>\n",
       "  <th>Ever_Bankrupt_or_Foreclose</th>   <td>   -0.7683</td> <td>    0.156</td> <td>   -4.913</td> <td> 0.000</td> <td>   -1.075</td> <td>   -0.462</td>\n",
       "</tr>\n",
       "<tr>\n",
       "  <th>Employment_Status_part_time</th>  <td>   -0.4953</td> <td>    0.068</td> <td>   -7.298</td> <td> 0.000</td> <td>   -0.628</td> <td>   -0.362</td>\n",
       "</tr>\n",
       "<tr>\n",
       "  <th>Employment_Status_unemployed</th> <td>   -1.2961</td> <td>    0.084</td> <td>  -15.462</td> <td> 0.000</td> <td>   -1.460</td> <td>   -1.132</td>\n",
       "</tr>\n",
       "</table>"
      ],
      "text/latex": [
       "\\begin{center}\n",
       "\\begin{tabular}{lclc}\n",
       "\\toprule\n",
       "\\textbf{Dep. Variable:}                 &     Approved     & \\textbf{  No. Observations:  } &    17500    \\\\\n",
       "\\textbf{Model:}                         &       GLM        & \\textbf{  Df Residuals:      } &    17492    \\\\\n",
       "\\textbf{Model Family:}                  &     Binomial     & \\textbf{  Df Model:          } &        7    \\\\\n",
       "\\textbf{Link Function:}                 &      Logit       & \\textbf{  Scale:             } &    1.0000   \\\\\n",
       "\\textbf{Method:}                        &       IRLS       & \\textbf{  Log-Likelihood:    } &   -7007.0   \\\\\n",
       "\\textbf{Date:}                          & Tue, 07 May 2024 & \\textbf{  Deviance:          } &    14014.   \\\\\n",
       "\\textbf{Time:}                          &     20:20:22     & \\textbf{  Pearson chi2:      } &  1.72e+04   \\\\\n",
       "\\textbf{No. Iterations:}                &        6         & \\textbf{  Pseudo R-squ. (CS):} &   0.1067    \\\\\n",
       "\\textbf{Covariance Type:}               &    nonrobust     & \\textbf{                     } &             \\\\\n",
       "\\bottomrule\n",
       "\\end{tabular}\n",
       "\\begin{tabular}{lcccccc}\n",
       "                                        & \\textbf{coef} & \\textbf{std err} & \\textbf{z} & \\textbf{P$> |$z$|$} & \\textbf{[0.025} & \\textbf{0.975]}  \\\\\n",
       "\\midrule\n",
       "\\textbf{const}                          &      -6.7836  &        0.197     &   -34.356  &         0.000        &       -7.171    &       -6.397     \\\\\n",
       "\\textbf{Loan\\_Amount}                   &   -6.805e-06  &     7.69e-07     &    -8.853  &         0.000        &    -8.31e-06    &     -5.3e-06     \\\\\n",
       "\\textbf{FICO\\_score}                    &       0.0094  &        0.000     &    31.208  &         0.000        &        0.009    &        0.010     \\\\\n",
       "\\textbf{Monthly\\_Gross\\_Income}         &    1.952e-05  &     9.46e-06     &     2.063  &         0.039        &     9.74e-07    &     3.81e-05     \\\\\n",
       "\\textbf{Monthly\\_Housing\\_Payment}      &      -0.0003  &     3.43e-05     &    -8.630  &         0.000        &       -0.000    &       -0.000     \\\\\n",
       "\\textbf{Ever\\_Bankrupt\\_or\\_Foreclose}  &      -0.7683  &        0.156     &    -4.913  &         0.000        &       -1.075    &       -0.462     \\\\\n",
       "\\textbf{Employment\\_Status\\_part\\_time} &      -0.4953  &        0.068     &    -7.298  &         0.000        &       -0.628    &       -0.362     \\\\\n",
       "\\textbf{Employment\\_Status\\_unemployed} &      -1.2961  &        0.084     &   -15.462  &         0.000        &       -1.460    &       -1.132     \\\\\n",
       "\\bottomrule\n",
       "\\end{tabular}\n",
       "%\\caption{Generalized Linear Model Regression Results}\n",
       "\\end{center}"
      ],
      "text/plain": [
       "<class 'statsmodels.iolib.summary.Summary'>\n",
       "\"\"\"\n",
       "                 Generalized Linear Model Regression Results                  \n",
       "==============================================================================\n",
       "Dep. Variable:               Approved   No. Observations:                17500\n",
       "Model:                            GLM   Df Residuals:                    17492\n",
       "Model Family:                Binomial   Df Model:                            7\n",
       "Link Function:                  Logit   Scale:                          1.0000\n",
       "Method:                          IRLS   Log-Likelihood:                -7007.0\n",
       "Date:                Tue, 07 May 2024   Deviance:                       14014.\n",
       "Time:                        20:20:22   Pearson chi2:                 1.72e+04\n",
       "No. Iterations:                     6   Pseudo R-squ. (CS):             0.1067\n",
       "Covariance Type:            nonrobust                                         \n",
       "================================================================================================\n",
       "                                   coef    std err          z      P>|z|      [0.025      0.975]\n",
       "------------------------------------------------------------------------------------------------\n",
       "const                           -6.7836      0.197    -34.356      0.000      -7.171      -6.397\n",
       "Loan_Amount                  -6.805e-06   7.69e-07     -8.853      0.000   -8.31e-06    -5.3e-06\n",
       "FICO_score                       0.0094      0.000     31.208      0.000       0.009       0.010\n",
       "Monthly_Gross_Income          1.952e-05   9.46e-06      2.063      0.039    9.74e-07    3.81e-05\n",
       "Monthly_Housing_Payment         -0.0003   3.43e-05     -8.630      0.000      -0.000      -0.000\n",
       "Ever_Bankrupt_or_Foreclose      -0.7683      0.156     -4.913      0.000      -1.075      -0.462\n",
       "Employment_Status_part_time     -0.4953      0.068     -7.298      0.000      -0.628      -0.362\n",
       "Employment_Status_unemployed    -1.2961      0.084    -15.462      0.000      -1.460      -1.132\n",
       "================================================================================================\n",
       "\"\"\""
      ]
     },
     "execution_count": 109,
     "metadata": {},
     "output_type": "execute_result"
    }
   ],
   "source": [
    "# Choose lender by filter\n",
    "df_lender = df[df['Lender'] == 'C']\n",
    "    \n",
    "# Define dependent and independent variabls\n",
    "y = df_lender['Approved']\n",
    "X = df_lender[['Loan_Amount', 'FICO_score', 'Monthly_Gross_Income', \n",
    "                'Monthly_Housing_Payment','Employment_Status','Ever_Bankrupt_or_Foreclose']]\n",
    "    \n",
    "# Encode dummy variables\n",
    "X = pd.get_dummies(X, columns=['Employment_Status'], dtype=int, drop_first=True)\n",
    "X = sm.add_constant(X)\n",
    "\n",
    "# Fit logistic regression model\n",
    "model_lender_c = sm.GLM(y, X, family=sm.families.Binomial()).fit()\n",
    "model_lender_c.summary()"
   ]
  },
  {
   "cell_type": "markdown",
   "id": "dc99104e",
   "metadata": {},
   "source": [
    "## 4.4 Comparison\n",
    "\n",
    "- **Similarities**: All lenders demonstrate that a higher FICO score significantly increases the likelihood of loan approval, emphasizing the importance of creditworthiness. Additionally, employment status plays a crucial role, with unemployment generally decreasing approval odds, highlighting a preference for stable, full-time employment. Thus, they are reliable variables for all lenders.\n",
    "\n",
    "- **Lender A**: Lender A places a significant emphasis on monthly gross income, suggesting a focus on an applicant's income stability and capacity to repay. Interestingly, unlike other lenders, being unemployed may not necessarily reduce approval chances for Lender A, indicating a unique approach to evaluating unemployed applicants. They don't consider Monthly_Housing_Payment either.\n",
    "\n",
    "- **Lender B**: Lender B considers monthly housing payments important, where higher payments negatively affect loan approval, reflecting a concern for applicants' existing financial burdens and their overall debt-to-income ratio. What's more, they don't consider bankrupt or foreclose history.\n",
    "\n",
    "- **Lender C**: Lender C exhibits a more conservative approach, particularly harsh towards unemployment, which significantly lowers the chances of approval more so than for other lenders, indicating a strong emphasis on employment stability and consistent income."
   ]
  },
  {
   "cell_type": "markdown",
   "id": "8991c7f9",
   "metadata": {},
   "source": [
    "# 5. Customer and Lenders\n",
    "## 5.1 Revenue Generated Now\n",
    "\n",
    "According to this dataset, Bankrate can generate $2,641,500 total revenue using the original matching method."
   ]
  },
  {
   "cell_type": "code",
   "execution_count": 110,
   "id": "d122d66e",
   "metadata": {
    "scrolled": false
   },
   "outputs": [
    {
     "name": "stdout",
     "output_type": "stream",
     "text": [
      "2641500\n"
     ]
    }
   ],
   "source": [
    "total_revenue = df['bounty'].sum()\n",
    "print(total_revenue)"
   ]
  },
  {
   "cell_type": "markdown",
   "id": "0d86aac1",
   "metadata": {},
   "source": [
    "## 5.2 When Using New Match Method\n",
    "\n",
    "This new method is based on the following key concepts for analyzing and matching lenders with customers:\n",
    "\n",
    "1. **Differing Behaviors of Lenders**: Each lender has different approval criteria, so the probability of the same customer being approved varies across lenders. This step predicts the approval probability for each customer with different lenders using logistic regression models.\n",
    "\n",
    "2. **Calculating Expected Revenue**: Since each lender offers different returns to Bankrate for approved loans, the expected revenue for each loan application is calculated after determining the approval probabilities. This expected revenue is the product of the approval probability and the amount provided by the respective lender.\n",
    "\n",
    "3. **Choosing the Optimal Lender**: Based on the calculated expected revenues, the lender offering the highest expected revenue is chosen as the best match for each loan application. This choice not only considers the likelihood of approval but also maximizes economic benefits.\n",
    "\n",
    "Using this method, the total calculated revenue is approximately 3,555,133 dollars which 913,633 dollars higher than the original matching method's revenue. This demonstrates that through detailed analysis and optimal selection, significant improvements in economic efficiency can be achieved."
   ]
  },
  {
   "cell_type": "code",
   "execution_count": 111,
   "id": "2dfb9981",
   "metadata": {},
   "outputs": [],
   "source": [
    "# Define independent variables for each customer\n",
    "X = df[['Loan_Amount', 'FICO_score', 'Monthly_Gross_Income','Monthly_Housing_Payment',\n",
    "        'Employment_Status','Ever_Bankrupt_or_Foreclose']]\n",
    "X = pd.get_dummies(X, columns=['Employment_Status'], dtype=int, drop_first=True)\n",
    "X = sm.add_constant(X)\n",
    "\n",
    "# Predict the approval probability for each customer matched with each lender\n",
    "prob_a = model_lender_a.predict(X)\n",
    "prob_b = model_lender_b.predict(X)\n",
    "prob_c = model_lender_c.predict(X)\n",
    "\n",
    "# Calculated the expected revenue for matching each lender\n",
    "expected_revenue_a = prob_a * 250\n",
    "expected_revenue_b = prob_b * 350\n",
    "expected_revenue_c = prob_c * 150\n",
    "\n",
    "# Choose the lender with maximum expected revenue\n",
    "max_revenue = np.maximum.reduce([expected_revenue_a, expected_revenue_b, expected_revenue_c])\n",
    "best_lender = np.argmax([expected_revenue_a, expected_revenue_b, expected_revenue_c], axis=0)\n",
    "best_lender_labels = {0: 'A', 1: 'B', 2: 'C'}\n",
    "best_lender = np.vectorize(best_lender_labels.get)(best_lender)\n",
    "\n",
    "# Add new variables to the dataframe\n",
    "df['Best_Lender'] = best_lender\n",
    "df['Max_Expected_Revenue'] = max_revenue"
   ]
  },
  {
   "cell_type": "code",
   "execution_count": 112,
   "id": "0c3177ce",
   "metadata": {},
   "outputs": [
    {
     "data": {
      "text/html": [
       "<div>\n",
       "<style scoped>\n",
       "    .dataframe tbody tr th:only-of-type {\n",
       "        vertical-align: middle;\n",
       "    }\n",
       "\n",
       "    .dataframe tbody tr th {\n",
       "        vertical-align: top;\n",
       "    }\n",
       "\n",
       "    .dataframe thead th {\n",
       "        text-align: right;\n",
       "    }\n",
       "</style>\n",
       "<table border=\"1\" class=\"dataframe\">\n",
       "  <thead>\n",
       "    <tr style=\"text-align: right;\">\n",
       "      <th></th>\n",
       "      <th>User ID</th>\n",
       "      <th>Lender</th>\n",
       "      <th>Best_Lender</th>\n",
       "      <th>Max_Expected_Revenue</th>\n",
       "    </tr>\n",
       "  </thead>\n",
       "  <tbody>\n",
       "    <tr>\n",
       "      <th>0</th>\n",
       "      <td>00007820-89cb-4c1d-9940-eb270d605a35</td>\n",
       "      <td>B</td>\n",
       "      <td>C</td>\n",
       "      <td>31.562555</td>\n",
       "    </tr>\n",
       "    <tr>\n",
       "      <th>1</th>\n",
       "      <td>00012b55-514c-421e-9c76-3300abbc1134</td>\n",
       "      <td>B</td>\n",
       "      <td>C</td>\n",
       "      <td>19.753105</td>\n",
       "    </tr>\n",
       "    <tr>\n",
       "      <th>2</th>\n",
       "      <td>000157c1-b6a3-4c86-82c7-9ec1bda3799a</td>\n",
       "      <td>A</td>\n",
       "      <td>C</td>\n",
       "      <td>25.518135</td>\n",
       "    </tr>\n",
       "    <tr>\n",
       "      <th>3</th>\n",
       "      <td>00020400-efab-4b10-8812-2a0aaf774841</td>\n",
       "      <td>A</td>\n",
       "      <td>C</td>\n",
       "      <td>16.322157</td>\n",
       "    </tr>\n",
       "    <tr>\n",
       "      <th>4</th>\n",
       "      <td>0002f737-0cda-48fb-91ed-533f3d0eab05</td>\n",
       "      <td>A</td>\n",
       "      <td>C</td>\n",
       "      <td>31.576213</td>\n",
       "    </tr>\n",
       "  </tbody>\n",
       "</table>\n",
       "</div>"
      ],
      "text/plain": [
       "                                User ID Lender Best_Lender  Max_Expected_Revenue\n",
       "0  00007820-89cb-4c1d-9940-eb270d605a35      B           C             31.562555\n",
       "1  00012b55-514c-421e-9c76-3300abbc1134      B           C             19.753105\n",
       "2  000157c1-b6a3-4c86-82c7-9ec1bda3799a      A           C             25.518135\n",
       "3  00020400-efab-4b10-8812-2a0aaf774841      A           C             16.322157\n",
       "4  0002f737-0cda-48fb-91ed-533f3d0eab05      A           C             31.576213"
      ]
     },
     "execution_count": 112,
     "metadata": {},
     "output_type": "execute_result"
    }
   ],
   "source": [
    "# Check the matching result\n",
    "df[['User ID','Lender','Best_Lender','Max_Expected_Revenue']].head()"
   ]
  },
  {
   "cell_type": "code",
   "execution_count": 113,
   "id": "52d88352",
   "metadata": {},
   "outputs": [
    {
     "name": "stdout",
     "output_type": "stream",
     "text": [
      "New expected total revenue: 3555132.811131361\n",
      "Expected revenue increase: 913632.8111313609\n"
     ]
    }
   ],
   "source": [
    "# Compute the max revuenue\n",
    "new_expected_revenue = df['Max_Expected_Revenue'].sum()\n",
    "\n",
    "# Compute the increase\n",
    "revenue_increase = new_expected_revenue - total_revenue\n",
    "\n",
    "# Print the result\n",
    "print(\"New expected total revenue:\", new_expected_revenue)\n",
    "print(\"Expected revenue increase:\", revenue_increase)"
   ]
  },
  {
   "cell_type": "markdown",
   "id": "3acb200d",
   "metadata": {},
   "source": [
    "## 5.3 Other Considerations\n",
    "\n",
    "According to the result based on our sample data, the new method works better than the original one. However, it changes the number of customers assigned to each lender. We need to consider model robustness, preference of customers, and relationship with lenders.\n",
    "\n",
    "- **Model robustness**: To achieve accurate predictions and efficient matching, the feasibility of the model and data is crucial. First, ensure that the data is comprehensive and represents different types of customers and loan scenarios. Second, the model should be updated regularly to reflect changes in the market and new consumer behavior patterns. Additionally, the predictive accuracy of the model must be maintained through continuous testing and validation to ensure its effectiveness in practical applications.\n",
    "\n",
    "- **Customer preference**: Understanding customer preferences is crucial for ensuring service satisfaction and enhancing customer loyalty. When using the model to match lenders, consider customers' specific needs regarding loan conditions, such as interest rates, repayment terms, and additional fees. By analyzing customers' historical behavior and feedback, the matching strategy can be further refined to ensure that the recommended lenders best meet their expectations and needs.\n",
    "\n",
    "- **Lender relationships**: Maintaining a cooperative relationship with lenders is also an important consideration when choosing the best lender for matching. From a long-term perspective, establishing stable and mutually beneficial relationships helps ensure sustained business growth and market competitiveness. From a short-term perspective, the approval rates and flexibility of loan products offered by lenders should also be considered to respond to immediate market changes. Therefore, balancing these factors and maintaining good communication and cooperation with lenders is crucial for achieving business strategies and objectives."
   ]
  },
  {
   "cell_type": "code",
   "execution_count": 114,
   "id": "59c21662",
   "metadata": {},
   "outputs": [
    {
     "data": {
      "image/png": "[encoded data removed]",
      "text/plain": [
       "<Figure size 1000x600 with 1 Axes>"
      ]
     },
     "metadata": {},
     "output_type": "display_data"
    }
   ],
   "source": [
    "# Count customers for original and new lenders\n",
    "original_lender_counts = df['Lender'].value_counts().reindex(['A', 'B', 'C'], fill_value=0)\n",
    "best_lender_counts = df['Best_Lender'].value_counts().reindex(['A', 'B', 'C'], fill_value=0)\n",
    "\n",
    "# order the result by lenders\n",
    "original_lender_counts = original_lender_counts.sort_index()\n",
    "best_lender_counts = best_lender_counts.sort_index()\n",
    "\n",
    "# Set the position and width\n",
    "bar_width = 0.35\n",
    "index = np.arange(len(original_lender_counts))\n",
    "\n",
    "# Draw the barplot\n",
    "plt.figure(figsize=(10, 6))\n",
    "bar1 = plt.bar(index, original_lender_counts, bar_width, label='Original Lender')\n",
    "bar2 = plt.bar(index + bar_width, best_lender_counts, bar_width, label='Best Lender')\n",
    "plt.xlabel('Lender')\n",
    "plt.ylabel('Number of Customers')\n",
    "plt.title('Customer Distribution: Original vs. Best Lender')\n",
    "plt.xticks(index + bar_width / 2, ['A', 'B', 'C'])\n",
    "plt.legend()\n",
    "plt.show()"
   ]
  }
 ],
 "metadata": {
  "kernelspec": {
   "display_name": "Python 3 (ipykernel)",
   "language": "python",
   "name": "python3"
  },
  "language_info": {
   "codemirror_mode": {
    "name": "ipython",
    "version": 3
   },
   "file_extension": ".py",
   "mimetype": "text/x-python",
   "name": "python",
   "nbconvert_exporter": "python",
   "pygments_lexer": "ipython3",
   "version": "3.11.5"
  }
 },
 "nbformat": 4,
 "nbformat_minor": 5
}
